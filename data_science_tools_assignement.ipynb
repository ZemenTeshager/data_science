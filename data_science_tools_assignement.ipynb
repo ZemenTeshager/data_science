{
 "cells": [
  {
   "cell_type": "markdown",
   "metadata": {},
   "source": [
    "<center>\n",
    "    <img src=\"https://s3-api.us-geo.objectstorage.softlayer.net/cf-courses-data/CognitiveClass/Logos/organization_logo/organization_logo.png\" width=\"300\" alt=\"cognitiveclass.ai logo\"  />\n",
    "</center>\n"
   ]
  },
  {
   "cell_type": "markdown",
   "metadata": {},
   "source": [
    "#### Add your code below following the instructions given in the course\n"
   ]
  },
  {
   "cell_type": "markdown",
   "metadata": {},
   "source": [
    "<h1>My Jupyter Notebook on IBM Watson Studio<h1>"
   ]
  },
  {
   "cell_type": "markdown",
   "metadata": {},
   "source": [
    "<p style=\"font-weight: bold\">Zemen Teshager</p>\n",
    "<p>I am currently a student</p>"
   ]
  },
  {
   "cell_type": "markdown",
   "metadata": {},
   "source": [
    "<em>I am interested in data science because I like making patters on unstructured logic</em>"
   ]
  },
  {
   "cell_type": "markdown",
   "metadata": {},
   "source": [
    "<h3>The following code is intended for accepting two numbers from keyboard and give the sum of the numbers<h3/>"
   ]
  },
  {
   "cell_type": "code",
   "execution_count": 4,
   "metadata": {},
   "outputs": [
    {
     "name": "stdin",
     "output_type": "stream",
     "text": [
      "please inter the first number: 4\n",
      "please inter the second number: 5\n"
     ]
    },
    {
     "name": "stdout",
     "output_type": "stream",
     "text": [
      "9\n"
     ]
    }
   ],
   "source": [
    "first_number = int(input(\"please inter the first number:\"))\n",
    "second_number = int(input(\"please inter the second number:\"))\n",
    "\n",
    "total = first_number + second_number\n",
    "print(total)"
   ]
  },
  {
   "cell_type": "markdown",
   "metadata": {},
   "source": [
    "<h4>plan for the future</h4\n",
    "<p>Jobs I am interested in are the following</p>\n",
    "<ol>\n",
    "    <li>Data science</li>\n",
    "    <li>Software development and</li>\n",
    "    <li>Data engineering</li>\n",
    "</ol>\n",
    "<em>I want to prepare myself by earning certifications as stated below before graduating with my bsc degree </em>\n",
    "\n",
    "<table>\n",
    "  <tr>\n",
    "    <th>Certification name</th>\n",
    "    <th>Issuing institute</th>\n",
    "    <th>planned date</th>\n",
    "  </tr>\n",
    " \n",
    "  <tr>\n",
    "    <td>IBM data science professional certificate</td>\n",
    "    <td>IBM on coursera</td>\n",
    "    <td>Nov 30, 2022</td>\n",
    "  </tr>\n",
    "   <tr>\n",
    "    <td>PCAP-certified associate in python programming</td>\n",
    "    <td>Python institute</td>\n",
    "    <td>Nov 15, 2022</td>\n",
    "  </tr>\n",
    "  <tr>\n",
    "    <td>IBM data engineering professional certificate</td>\n",
    "    <td>IBM</td>\n",
    "    <td>January 1, 2023</td>\n",
    "  </tr>\n",
    "</table>"
   ]
  },
  {
   "cell_type": "code",
   "execution_count": null,
   "metadata": {},
   "outputs": [],
   "source": []
  }
 ],
 "metadata": {
  "kernelspec": {
   "display_name": "Python",
   "language": "python",
   "name": "conda-env-python-py"
  },
  "language_info": {
   "codemirror_mode": {
    "name": "ipython",
    "version": 3
   },
   "file_extension": ".py",
   "mimetype": "text/x-python",
   "name": "python",
   "nbconvert_exporter": "python",
   "pygments_lexer": "ipython3",
   "version": "3.7.12"
  }
 },
 "nbformat": 4,
 "nbformat_minor": 4
}
